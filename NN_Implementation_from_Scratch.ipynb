{
  "nbformat": 4,
  "nbformat_minor": 0,
  "metadata": {
    "colab": {
      "name": "NN_Implementation_from_Scratch.ipynb",
      "provenance": []
    },
    "kernelspec": {
      "name": "python3",
      "display_name": "Python 3"
    },
    "language_info": {
      "name": "python"
    }
  },
  "cells": [
    {
      "cell_type": "markdown",
      "metadata": {
        "id": "XU6qTquvAB6I"
      },
      "source": [
        "Importing Libraries"
      ]
    },
    {
      "cell_type": "code",
      "metadata": {
        "id": "EdT0WsxGAFhz"
      },
      "source": [
        "import numpy as np\n",
        "import pandas as pd\n",
        "import matplotlib.pyplot as plt"
      ],
      "execution_count": 1,
      "outputs": []
    },
    {
      "cell_type": "markdown",
      "metadata": {
        "id": "5XNelkCYAMXh"
      },
      "source": [
        "Dataset Creation"
      ]
    },
    {
      "cell_type": "code",
      "metadata": {
        "colab": {
          "base_uri": "https://localhost:8080/",
          "height": 669
        },
        "id": "p1_sn5IeAPTw",
        "outputId": "2c8350e9-3019-42e5-9bc6-40071d152630"
      },
      "source": [
        "X = np.vstack([(np.random.rand(10,2)*5),(np.random.rand(10,2)*10)])\n",
        "Y = np.hstack([[0]*10, [1]*10])\n",
        "dataset = pd.DataFrame(X, columns = {\"X1\", \"X2\"})\n",
        "dataset[\"Y\"] = Y\n",
        "dataset"
      ],
      "execution_count": 2,
      "outputs": [
        {
          "output_type": "execute_result",
          "data": {
            "text/html": [
              "<div>\n",
              "<style scoped>\n",
              "    .dataframe tbody tr th:only-of-type {\n",
              "        vertical-align: middle;\n",
              "    }\n",
              "\n",
              "    .dataframe tbody tr th {\n",
              "        vertical-align: top;\n",
              "    }\n",
              "\n",
              "    .dataframe thead th {\n",
              "        text-align: right;\n",
              "    }\n",
              "</style>\n",
              "<table border=\"1\" class=\"dataframe\">\n",
              "  <thead>\n",
              "    <tr style=\"text-align: right;\">\n",
              "      <th></th>\n",
              "      <th>X2</th>\n",
              "      <th>X1</th>\n",
              "      <th>Y</th>\n",
              "    </tr>\n",
              "  </thead>\n",
              "  <tbody>\n",
              "    <tr>\n",
              "      <th>0</th>\n",
              "      <td>4.691534</td>\n",
              "      <td>1.269821</td>\n",
              "      <td>0</td>\n",
              "    </tr>\n",
              "    <tr>\n",
              "      <th>1</th>\n",
              "      <td>4.633984</td>\n",
              "      <td>3.464855</td>\n",
              "      <td>0</td>\n",
              "    </tr>\n",
              "    <tr>\n",
              "      <th>2</th>\n",
              "      <td>0.518900</td>\n",
              "      <td>4.181024</td>\n",
              "      <td>0</td>\n",
              "    </tr>\n",
              "    <tr>\n",
              "      <th>3</th>\n",
              "      <td>4.395097</td>\n",
              "      <td>0.566331</td>\n",
              "      <td>0</td>\n",
              "    </tr>\n",
              "    <tr>\n",
              "      <th>4</th>\n",
              "      <td>1.744464</td>\n",
              "      <td>2.350135</td>\n",
              "      <td>0</td>\n",
              "    </tr>\n",
              "    <tr>\n",
              "      <th>5</th>\n",
              "      <td>2.430135</td>\n",
              "      <td>0.562324</td>\n",
              "      <td>0</td>\n",
              "    </tr>\n",
              "    <tr>\n",
              "      <th>6</th>\n",
              "      <td>1.181834</td>\n",
              "      <td>2.501829</td>\n",
              "      <td>0</td>\n",
              "    </tr>\n",
              "    <tr>\n",
              "      <th>7</th>\n",
              "      <td>2.383304</td>\n",
              "      <td>0.520892</td>\n",
              "      <td>0</td>\n",
              "    </tr>\n",
              "    <tr>\n",
              "      <th>8</th>\n",
              "      <td>2.966886</td>\n",
              "      <td>4.113989</td>\n",
              "      <td>0</td>\n",
              "    </tr>\n",
              "    <tr>\n",
              "      <th>9</th>\n",
              "      <td>4.692872</td>\n",
              "      <td>3.353119</td>\n",
              "      <td>0</td>\n",
              "    </tr>\n",
              "    <tr>\n",
              "      <th>10</th>\n",
              "      <td>4.075045</td>\n",
              "      <td>3.552673</td>\n",
              "      <td>1</td>\n",
              "    </tr>\n",
              "    <tr>\n",
              "      <th>11</th>\n",
              "      <td>8.270985</td>\n",
              "      <td>7.832262</td>\n",
              "      <td>1</td>\n",
              "    </tr>\n",
              "    <tr>\n",
              "      <th>12</th>\n",
              "      <td>8.520939</td>\n",
              "      <td>2.468266</td>\n",
              "      <td>1</td>\n",
              "    </tr>\n",
              "    <tr>\n",
              "      <th>13</th>\n",
              "      <td>9.534853</td>\n",
              "      <td>6.349103</td>\n",
              "      <td>1</td>\n",
              "    </tr>\n",
              "    <tr>\n",
              "      <th>14</th>\n",
              "      <td>9.922837</td>\n",
              "      <td>6.152379</td>\n",
              "      <td>1</td>\n",
              "    </tr>\n",
              "    <tr>\n",
              "      <th>15</th>\n",
              "      <td>9.545060</td>\n",
              "      <td>6.598098</td>\n",
              "      <td>1</td>\n",
              "    </tr>\n",
              "    <tr>\n",
              "      <th>16</th>\n",
              "      <td>2.895355</td>\n",
              "      <td>3.949606</td>\n",
              "      <td>1</td>\n",
              "    </tr>\n",
              "    <tr>\n",
              "      <th>17</th>\n",
              "      <td>8.013262</td>\n",
              "      <td>8.824203</td>\n",
              "      <td>1</td>\n",
              "    </tr>\n",
              "    <tr>\n",
              "      <th>18</th>\n",
              "      <td>9.478914</td>\n",
              "      <td>1.173954</td>\n",
              "      <td>1</td>\n",
              "    </tr>\n",
              "    <tr>\n",
              "      <th>19</th>\n",
              "      <td>2.620268</td>\n",
              "      <td>4.880860</td>\n",
              "      <td>1</td>\n",
              "    </tr>\n",
              "  </tbody>\n",
              "</table>\n",
              "</div>"
            ],
            "text/plain": [
              "          X2        X1  Y\n",
              "0   4.691534  1.269821  0\n",
              "1   4.633984  3.464855  0\n",
              "2   0.518900  4.181024  0\n",
              "3   4.395097  0.566331  0\n",
              "4   1.744464  2.350135  0\n",
              "5   2.430135  0.562324  0\n",
              "6   1.181834  2.501829  0\n",
              "7   2.383304  0.520892  0\n",
              "8   2.966886  4.113989  0\n",
              "9   4.692872  3.353119  0\n",
              "10  4.075045  3.552673  1\n",
              "11  8.270985  7.832262  1\n",
              "12  8.520939  2.468266  1\n",
              "13  9.534853  6.349103  1\n",
              "14  9.922837  6.152379  1\n",
              "15  9.545060  6.598098  1\n",
              "16  2.895355  3.949606  1\n",
              "17  8.013262  8.824203  1\n",
              "18  9.478914  1.173954  1\n",
              "19  2.620268  4.880860  1"
            ]
          },
          "metadata": {
            "tags": []
          },
          "execution_count": 2
        }
      ]
    },
    {
      "cell_type": "markdown",
      "metadata": {
        "id": "ZA1CH248AjSj"
      },
      "source": [
        "Class Vector creation- One Hot Encoding "
      ]
    },
    {
      "cell_type": "code",
      "metadata": {
        "colab": {
          "base_uri": "https://localhost:8080/"
        },
        "id": "DrSiNfV3BEOg",
        "outputId": "71513fde-5731-4de0-f89b-84ffea6ea2f6"
      },
      "source": [
        "Z = np.zeros((20,2))\n",
        "for i in range(20):\n",
        "  Z[i, Y[i]] = 1\n",
        "Z  "
      ],
      "execution_count": 3,
      "outputs": [
        {
          "output_type": "execute_result",
          "data": {
            "text/plain": [
              "array([[1., 0.],\n",
              "       [1., 0.],\n",
              "       [1., 0.],\n",
              "       [1., 0.],\n",
              "       [1., 0.],\n",
              "       [1., 0.],\n",
              "       [1., 0.],\n",
              "       [1., 0.],\n",
              "       [1., 0.],\n",
              "       [1., 0.],\n",
              "       [0., 1.],\n",
              "       [0., 1.],\n",
              "       [0., 1.],\n",
              "       [0., 1.],\n",
              "       [0., 1.],\n",
              "       [0., 1.],\n",
              "       [0., 1.],\n",
              "       [0., 1.],\n",
              "       [0., 1.],\n",
              "       [0., 1.]])"
            ]
          },
          "metadata": {
            "tags": []
          },
          "execution_count": 3
        }
      ]
    },
    {
      "cell_type": "markdown",
      "metadata": {
        "id": "z7ZV8CC9ByEw"
      },
      "source": [
        "Random Weight & Bias Initialization"
      ]
    },
    {
      "cell_type": "code",
      "metadata": {
        "id": "LUR4LqhpB3xU"
      },
      "source": [
        "Wi_1 = np.random.rand(3,2)\n",
        "Bi_1 = np.random.rand(3)\n",
        "Wi_2 = np.random.rand(3,2)\n",
        "Bi_2 = np.random.rand(2)"
      ],
      "execution_count": 4,
      "outputs": []
    },
    {
      "cell_type": "markdown",
      "metadata": {
        "id": "4Le9TiBFCO79"
      },
      "source": [
        "Forward Propagation"
      ]
    },
    {
      "cell_type": "code",
      "metadata": {
        "id": "A6Zybu8nCRfr"
      },
      "source": [
        "def forward_prop(X, Wi_1, Bi_1, Wi_2, Bi_2):\n",
        "  #first layer\n",
        "  M = 1/(1 + np.exp(-(X.dot(Wi_1.T) + Bi_1)))\n",
        "  #second layer\n",
        "  A = M.dot(Wi_2) + Bi_2\n",
        "  expA = np.exp(A)\n",
        "  Y = expA/expA.sum(axis = 1, keepdims = True)\n",
        "  return Y, M"
      ],
      "execution_count": 5,
      "outputs": []
    },
    {
      "cell_type": "code",
      "metadata": {
        "colab": {
          "base_uri": "https://localhost:8080/"
        },
        "id": "mWjJsaxiCX3p",
        "outputId": "b7d51d5a-d3ec-4392-d7a3-7e6c1d0c9f6c"
      },
      "source": [
        "forward_prop(X, Wi_1, Bi_1, Wi_2, Bi_2)"
      ],
      "execution_count": 6,
      "outputs": [
        {
          "output_type": "execute_result",
          "data": {
            "text/plain": [
              "(array([[0.80262123, 0.19737877],\n",
              "        [0.80762967, 0.19237033],\n",
              "        [0.78788658, 0.21211342],\n",
              "        [0.79905204, 0.20094796],\n",
              "        [0.78888434, 0.21111566],\n",
              "        [0.78384766, 0.21615234],\n",
              "        [0.78345663, 0.21654337],\n",
              "        [0.78295801, 0.21704199],\n",
              "        [0.80400639, 0.19599361],\n",
              "        [0.80756247, 0.19243753],\n",
              "        [0.80629658, 0.19370342],\n",
              "        [0.81621322, 0.18378678],\n",
              "        [0.81304127, 0.18695873],\n",
              "        [0.81625224, 0.18374776],\n",
              "        [0.8163601 , 0.1836399 ],\n",
              "        [0.81635003, 0.18364997],\n",
              "        [0.80327275, 0.19672725],\n",
              "        [0.81645877, 0.18354123],\n",
              "        [0.81295402, 0.18704598],\n",
              "        [0.80475803, 0.19524197]]),\n",
              " array([[0.99098075, 0.99141883, 0.87984616],\n",
              "        [0.99793261, 0.99638036, 0.91508389],\n",
              "        [0.98290113, 0.90613128, 0.82776751],\n",
              "        [0.9824379 , 0.98510903, 0.85758605],\n",
              "        [0.97254825, 0.9300665 , 0.81994393],\n",
              "        [0.94098559, 0.92036019, 0.79361409],\n",
              "        [0.96489629, 0.89586891, 0.80460925],\n",
              "        [0.93765329, 0.91593517, 0.790615  ],\n",
              "        [0.9961866 , 0.98799982, 0.89240734],\n",
              "        [0.99784912, 0.99639995, 0.91454498],\n",
              "        [0.99722365, 0.99428376, 0.90601796],\n",
              "        [0.99999002, 0.99997684, 0.98203264],\n",
              "        [0.9996538 , 0.99982463, 0.95613538],\n",
              "        [0.99998758, 0.99998595, 0.98234917],\n",
              "        [0.99998889, 0.99998919, 0.98323871],\n",
              "        [0.99998961, 0.99998746, 0.98315655],\n",
              "        [0.99553155, 0.98632567, 0.88788839],\n",
              "        [0.99999408, 0.99998079, 0.98406017],\n",
              "        [0.99954024, 0.99987108, 0.95540639],\n",
              "        [0.99719738, 0.98816087, 0.89808698]]))"
            ]
          },
          "metadata": {
            "tags": []
          },
          "execution_count": 6
        }
      ]
    },
    {
      "cell_type": "markdown",
      "metadata": {
        "id": "SsJ1lwbVCfz6"
      },
      "source": [
        "Back Propagation"
      ]
    },
    {
      "cell_type": "code",
      "metadata": {
        "id": "03m__DweCgoN"
      },
      "source": [
        "#returning gradient for Wi_1\n",
        "def diff_Wi_1(X, H, Z, output, Wi_2):\n",
        "  dZ = (Z - output).dot(Wi_2.T) * H * (1 - H)\n",
        "  return X.T.dot(dZ)\n",
        "\n",
        "#returning gradient for Wi_2\n",
        "def diff_Wi_2(H, Z, Y):\n",
        "  return H.T.dot(Z-Y)\n",
        "\n",
        "#returning gradient for bias\n",
        "def diff_Bi_2(Z,Y):\n",
        "  return(Z-Y).sum(axis = 0)\n",
        "\n",
        "def diff_Bi_1(Z, Y, Wi_2, H):\n",
        "  return ((Z-Y).dot(Wi_2.T)* H*(1-H)).sum(axis=0)  "
      ],
      "execution_count": 54,
      "outputs": []
    },
    {
      "cell_type": "markdown",
      "metadata": {
        "id": "wnks3kY3C9km"
      },
      "source": [
        "Training"
      ]
    },
    {
      "cell_type": "code",
      "metadata": {
        "id": "2rxyxpwSDBhK"
      },
      "source": [
        "learning_rate = 1e-3\n",
        "for epoch in range(5000):\n",
        "  output, hidden = forward_prop(X, Wi_1, Bi_1, Wi_2, Bi_2)\n",
        "  Wi_2+= learning_rate * diff_Wi_2(hidden, Z, output)\n",
        "  Bi_2+= learning_rate * diff_Bi_2(Z, output)\n",
        "  Wi_1+= learning_rate * diff_Wi_1(X,hidden, Z, output, Wi_2).T\n",
        "  Bi_1+= learning_rate * diff_Bi_1(Z, output, Wi_2, hidden)[0]"
      ],
      "execution_count": 43,
      "outputs": []
    },
    {
      "cell_type": "markdown",
      "metadata": {
        "id": "YuRYKwigDQWp"
      },
      "source": [
        "Testing\n"
      ]
    },
    {
      "cell_type": "code",
      "metadata": {
        "colab": {
          "base_uri": "https://localhost:8080/"
        },
        "id": "xIGEtV1xDQ47",
        "outputId": "aaefb9f2-46da-4540-b5a4-b160245549db"
      },
      "source": [
        "X_test = np.array([5,7])\n",
        "hidden_output = 1/(1+ np.exp(-(X_test.dot(Wi_1.T) + Bi_1)))\n",
        "Outer_layer_output = hidden_output.dot(Wi_2) + Bi_2\n",
        "expA  = np.exp(Outer_layer_output)\n",
        "Y = expA/expA.sum()\n",
        "print(\"Probability of class 0>>>>>>> {} \\nprobability of class 1>>>>> {}\".format(Y[0], Y[1]))"
      ],
      "execution_count": 56,
      "outputs": [
        {
          "output_type": "stream",
          "text": [
            "Probability of class 0>>>>>>> 0.4605096222112106 \n",
            "probability of class 1>>>>> 0.5394903777887895\n"
          ],
          "name": "stdout"
        }
      ]
    }
  ]
}